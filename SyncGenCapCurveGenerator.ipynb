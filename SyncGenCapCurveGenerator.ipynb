{
 "cells": [
  {
   "cell_type": "code",
   "execution_count": 1,
   "metadata": {},
   "outputs": [],
   "source": [
    "####################################################################################################\n",
    "# SYNCHRONOUS GENERATOR CAPABILITY CURVES GENERATOR\n",
    "####################################################################################################\n",
    "# This program was designed to create the capability curves of a synchronous generator\n",
    "# given the machines' nominal parameters.\n",
    "# It comprises two functions:\n",
    "# 1) Capability Curve Generator:\n",
    "#       generates the capability curve from the current limit curves for the rotor and stator\n",
    "# 2) Generator Capability Verification:\n",
    "#       verify wheter a certain load condition can be achieved by a generator\n",
    "####################################################################################################\n",
    "# This code was developed using the concepts and electric machinery modeling from Chapman's\n",
    "# \"Electric Machinery Fundamentals\", 5th edition and Uman's \"Fitzgerald & Kingsley's Electric\n",
    "#  Machinery\", 7th edition.\n",
    "# The sections used were, respectively, 4.11 (Synchronous Generator Ratings - Synchronous Generator\n",
    "# Capability Curves, p.254) and 5.5 (Steady-state Operating Characteristics, p.293)\n",
    "# Along with several mathematical and programming ideas that will be cited when approriate\n",
    "#  throught the code.\n",
    "####################################################################################################\n",
    "# Developed by\n",
    "#       Felipe Baldner (https://github.com/fbaldner) and\n",
    "#       Júlia Avellar ()\n",
    "####################################################################################################\n",
    "# version 0.1 (2021-12-09):\n",
    "#      - Initial release\n",
    "#      - Defines generator input parameters and calculates both curves' data\n",
    "#      - Plot both curves overlapping each other and prime-mover max power"
   ]
  },
  {
   "cell_type": "code",
   "execution_count": 2,
   "metadata": {},
   "outputs": [],
   "source": [
    "# Needed libraries\n",
    "import math as mt\n",
    "import numpy as np\n",
    "import cmath as cm\n",
    "import matplotlib.pyplot as plt\n",
    "import sympy as sym"
   ]
  },
  {
   "cell_type": "code",
   "execution_count": 3,
   "metadata": {},
   "outputs": [],
   "source": [
    "# Generator input parameters\n",
    "Vterminal   = 480       # Terminal voltage, in volt (line voltage)\n",
    "freq        = 50        # Electrical frequency, in hertz\n",
    "Srated      = 50e3      # Rated apparent power, in volt-ampere\n",
    "poles       = 6         # Number of poles\n",
    "PowerFactor = 0.8       # Power factor, lagging (inductive)\n",
    "Xsync       = 1         # Synchronous reactance, in ohm per phase\n",
    "\n",
    "# Load parameters\n",
    "Pload       = 45e3      # Load that is being supplied by the generator, in watt\n",
    "\n",
    "# Generator's Losses\n",
    "Pmech_loss  = 1.5e3     # Mechanical (friction and windage) Losses, in watt\n",
    "Pcore_loss  = 1e3       # Core Losses, in watt"
   ]
  },
  {
   "cell_type": "code",
   "execution_count": 4,
   "metadata": {},
   "outputs": [],
   "source": [
    "# Calculations\n",
    "# Phase voltage, in volt\n",
    "Vphase          = Vterminal/mt.sqrt(3)\n",
    "\n",
    "# Maximum armature current, in ampere - absolute value and phasor\n",
    "Iarm_max        = Srated/(3 * Vphase)\n",
    "Iarm_max_phasor = Iarm_max*cm.exp(-1j * mt.acos(PowerFactor))\n",
    "\n",
    "# Origin of rotor current curve\n",
    "Qrotor          = -(3 * Vphase**2)/Xsync\n",
    "\n",
    "# Generator's internal generated voltage, in volt\n",
    "Ea              = Vphase + 1j * Xsync * Iarm_max_phasor\n",
    "\n",
    "# Apparent power that is the radius of the rotor curve, in volt-ampere\n",
    "D_E             = (3 * abs(Ea) * Vphase)/Xsync\n",
    "\n",
    "# Prime-mover maximum output real power, in watt\n",
    "Pmax_out        = Pload - Pmech_loss - Pcore_loss"
   ]
  },
  {
   "cell_type": "code",
   "execution_count": 5,
   "metadata": {},
   "outputs": [],
   "source": [
    "# Stator current limit curve\n",
    "# A circle centered in (0,0) with radius Srated\n",
    "x_stator_o = 0\n",
    "y_stator_o = 0\n",
    "r_stator   = Srated\n",
    "\n",
    "# Rotor current limit curve\n",
    "# A circle centered in (0,Q) with radius D_E\n",
    "x_stator_o = 0\n",
    "y_stator_o = Qrotor\n",
    "r_stator   = D_E\n",
    "\n",
    "# Prime-mover power limit\n",
    "x_prime = Pmax_out"
   ]
  },
  {
   "cell_type": "code",
   "execution_count": 6,
   "metadata": {},
   "outputs": [
    {
     "data": {
      "text/plain": [
       "<matplotlib.patches.Circle at 0x242ef15c0a0>"
      ]
     },
     "execution_count": 6,
     "metadata": {},
     "output_type": "execute_result"
    },
    {
     "data": {
      "image/png": "[encoded data removed]",
      "text/plain": [
       "<Figure size 432x288 with 1 Axes>"
      ]
     },
     "metadata": {
      "needs_background": "light"
     },
     "output_type": "display_data"
    }
   ],
   "source": [
    "# Plot both curves overlapping each other\n",
    "stator_curve = plt.Circle((0 , 0)      , Srated , color='r' , fill=False)\n",
    "rotor_curve  = plt.Circle((0 , Qrotor) , D_E    , color='b' , fill=False)\n",
    "\n",
    "fig, ax = plt.subplots()\n",
    "\n",
    "# Plot prime-mover real power limit\n",
    "maxpower_curve = plt.axvline(x=Pmax_out , color='g' )\n",
    "\n",
    "xlim_pos = 4*Srated\n",
    "ylim_neg = -1.5*Srated\n",
    "ylim_pos =  1.5*Srated\n",
    "\n",
    "ax.set_xlim((0        , xlim_pos))\n",
    "ax.set_ylim((ylim_neg , ylim_pos))\n",
    "ax.set_aspect('equal')\n",
    "\n",
    "plt.legend((stator_curve           , rotor_curve           , maxpower_curve) ,\n",
    "           ('Stator current limit' , 'Rotor current limit' , 'Prime-mover maximum power') ,\n",
    "           numpoints=1,\n",
    "           loc=1)\n",
    "\n",
    "plt.xlabel(\"P, W\")\n",
    "plt.ylabel(\"Q, var\")\n",
    "\n",
    "ax.add_patch(stator_curve)\n",
    "ax.add_patch(rotor_curve)"
   ]
  }
 ],
 "metadata": {
  "interpreter": {
   "hash": "ac59ebe37160ed0dfa835113d9b8498d9f09ceb179beaac4002f036b9467c963"
  },
  "kernelspec": {
   "display_name": "Python 3.9.2 64-bit",
   "language": "python",
   "name": "python3"
  },
  "language_info": {
   "codemirror_mode": {
    "name": "ipython",
    "version": 3
   },
   "file_extension": ".py",
   "mimetype": "text/x-python",
   "name": "python",
   "nbconvert_exporter": "python",
   "pygments_lexer": "ipython3",
   "version": "3.9.2"
  },
  "orig_nbformat": 4
 },
 "nbformat": 4,
 "nbformat_minor": 2
}
